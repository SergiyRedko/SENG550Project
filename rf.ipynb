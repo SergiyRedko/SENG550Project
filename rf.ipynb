{
  "cells": [
    {
      "cell_type": "markdown",
      "metadata": {
        "id": "NTBASbYpAN5M"
      },
      "source": [
        "# Preamble\n",
        "\n",
        "This notebook was designed to run on GoogleColab.\n",
        "\n",
        "This notebook requires one input file to run (`answers.csv`, instructions for download below in **Read Data** section)."
      ]
    },
    {
      "cell_type": "markdown",
      "metadata": {
        "id": "c6_pg9kX-8ix"
      },
      "source": [
        "# Install\n",
        "Install pyspark."
      ]
    },
    {
      "cell_type": "code",
      "execution_count": 31,
      "metadata": {
        "colab": {
          "base_uri": "https://localhost:8080/"
        },
        "id": "-SG396G--9l6",
        "outputId": "2fb30dd4-c4d3-4224-bd5d-536389f79959"
      },
      "outputs": [
        {
          "output_type": "stream",
          "name": "stdout",
          "text": [
            "Requirement already satisfied: pyspark in /usr/local/lib/python3.10/dist-packages (3.5.3)\n",
            "Requirement already satisfied: py4j==0.10.9.7 in /usr/local/lib/python3.10/dist-packages (from pyspark) (0.10.9.7)\n",
            "Requirement already satisfied: pandas in /usr/local/lib/python3.10/dist-packages (2.2.2)\n",
            "Requirement already satisfied: numpy>=1.22.4 in /usr/local/lib/python3.10/dist-packages (from pandas) (1.26.4)\n",
            "Requirement already satisfied: python-dateutil>=2.8.2 in /usr/local/lib/python3.10/dist-packages (from pandas) (2.8.2)\n",
            "Requirement already satisfied: pytz>=2020.1 in /usr/local/lib/python3.10/dist-packages (from pandas) (2024.2)\n",
            "Requirement already satisfied: tzdata>=2022.7 in /usr/local/lib/python3.10/dist-packages (from pandas) (2024.2)\n",
            "Requirement already satisfied: six>=1.5 in /usr/local/lib/python3.10/dist-packages (from python-dateutil>=2.8.2->pandas) (1.17.0)\n",
            "Requirement already satisfied: matplotlib in /usr/local/lib/python3.10/dist-packages (3.8.0)\n",
            "Requirement already satisfied: contourpy>=1.0.1 in /usr/local/lib/python3.10/dist-packages (from matplotlib) (1.3.1)\n",
            "Requirement already satisfied: cycler>=0.10 in /usr/local/lib/python3.10/dist-packages (from matplotlib) (0.12.1)\n",
            "Requirement already satisfied: fonttools>=4.22.0 in /usr/local/lib/python3.10/dist-packages (from matplotlib) (4.55.3)\n",
            "Requirement already satisfied: kiwisolver>=1.0.1 in /usr/local/lib/python3.10/dist-packages (from matplotlib) (1.4.7)\n",
            "Requirement already satisfied: numpy<2,>=1.21 in /usr/local/lib/python3.10/dist-packages (from matplotlib) (1.26.4)\n",
            "Requirement already satisfied: packaging>=20.0 in /usr/local/lib/python3.10/dist-packages (from matplotlib) (24.2)\n",
            "Requirement already satisfied: pillow>=6.2.0 in /usr/local/lib/python3.10/dist-packages (from matplotlib) (11.0.0)\n",
            "Requirement already satisfied: pyparsing>=2.3.1 in /usr/local/lib/python3.10/dist-packages (from matplotlib) (3.2.0)\n",
            "Requirement already satisfied: python-dateutil>=2.7 in /usr/local/lib/python3.10/dist-packages (from matplotlib) (2.8.2)\n",
            "Requirement already satisfied: six>=1.5 in /usr/local/lib/python3.10/dist-packages (from python-dateutil>=2.7->matplotlib) (1.17.0)\n"
          ]
        }
      ],
      "source": [
        "%pip install pyspark\n",
        "%pip install pandas\n",
        "%pip install matplotlib"
      ]
    },
    {
      "cell_type": "markdown",
      "metadata": {
        "id": "NEXOa7tI_KeT"
      },
      "source": [
        "# Import\n",
        "Import modules and instantiate the global variables."
      ]
    },
    {
      "cell_type": "code",
      "execution_count": 32,
      "metadata": {
        "id": "Nt5aOCG6_J7K"
      },
      "outputs": [],
      "source": [
        "import pyspark\n",
        "import pandas as pd\n",
        "from pyspark.sql import SparkSession\n",
        "from pyspark.sql import functions as F\n",
        "from pyspark.sql.window import Window\n",
        "from pyspark.sql.types import StringType\n",
        "from pyspark.ml.feature import VectorAssembler\n",
        "from pyspark.ml.regression import LinearRegression\n",
        "from pyspark.ml.regression import GBTRegressor\n",
        "from pyspark.ml.evaluation import RegressionEvaluator\n",
        "spark = SparkSession.builder.appName('SENG550Project').getOrCreate()\n",
        "sc = spark.sparkContext"
      ]
    },
    {
      "cell_type": "markdown",
      "metadata": {
        "id": "OgOTVp78_1di"
      },
      "source": [
        "# Read Data\n",
        "Read the data from the .csv file.\n",
        "\n",
        "**Please note**: for this step to work you must have downloaded `answers.csv` file from https://ics.uci.edu/~duboisc/stackoverflow/answers.csv (or take a copy from our repository of submission). You must now put this file into the folder in which GoogleColab executes (i.e., `/content`). You can put it there by simply dragging and dropping `answers.csv` into it."
      ]
    },
    {
      "cell_type": "code",
      "execution_count": 33,
      "metadata": {
        "colab": {
          "base_uri": "https://localhost:8080/"
        },
        "id": "bxPvTriw_1xr",
        "outputId": "53683058-531c-4fbd-abda-d8a692ba197d"
      },
      "outputs": [
        {
          "output_type": "stream",
          "name": "stdout",
          "text": [
            "+------+------+-----+---+----------+--------------------+---+---+------+-----+---+----------+\n",
            "|   _c0|   qid|    i| qs|        qt|                tags|qvc|qac|   aid|    j| as|        at|\n",
            "+------+------+-----+---+----------+--------------------+---+---+------+-----+---+----------+\n",
            "| 39295|620506|48789|  2|1236375123|      delphi,records|321|  5|623032|75188|  0|1236486582|\n",
            "| 80135|680343|81419|  1|1237959599|ajax,rails,script...| 80|  1|680376|38426|  2|1237960597|\n",
            "| 76039|674147| 4906|  0|1237826484|              vb,vb6|183|  4|674159|75694|  0|1237826668|\n",
            "| 58809|648923|39036|  0|1237165483|best-practices,su...|207|  9|648936|16076|  1|1237166046|\n",
            "|143886|775168| 4593|  6|1240357880|math,latex,mathml...|320| 12|775385|78374|  1|1240363859|\n",
            "|100124|710127|86228|  0|1238684998|   objective-c,cocoa| 57|  2|710248|35999|  1|1238686469|\n",
            "|150011|784417|70942|  1|1240544464|c,string,pointers...|663| 10|784436|47529|  1|1240544923|\n",
            "|112497|728456| 8280|  2|1239162435|debugging,sop,phi...|161| 11|728475| 6932|  5|1239163054|\n",
            "| 78745|678196|81937|  4|1237912333|     mysql,sql,query|176|  5|678340|33914|  4|1237914595|\n",
            "|  3614|568590|   85|  2|1235114439|      game,engine,2d|361|  6|568597|59301|  1|1235114722|\n",
            "| 26789|602285| 1782|  0|1235999250|jquery,html-table...|351|  6|602415|12048|  2|1236001726|\n",
            "| 47331|632251|23294|  3|1236718856|       sql,sqlserver|246|  8|632427|45163|  0|1236721720|\n",
            "| 92445|698998|45005|  7|1238446826|design,architectu...|107|  3|699053|27012|  1|1238447639|\n",
            "|105188|717757|24126|  2|1238876895|moss,moss-2007,sh...|111|  3|717915|15626|  0|1238882926|\n",
            "| 50903|637571|23671|  2|1236839286|   windows,installer|183|  8|641393|23852|  0|1236915602|\n",
            "| 25744|600877|34426|  2|1235952378|        linux,kernel|155|  2|600889|14690|  1|1235953184|\n",
            "| 25469|600504|45963|  2|1235941228|scipy,debian,inst...|103|  3|600620|24283|  1|1235944373|\n",
            "| 52997|640515|29182|  4|1236892611|    beginner,c,crash|785| 21|640911|21714|  1|1236901236|\n",
            "| 76511|674806| 4964|  2|1237835274|video,training,tr...| 92|  3|674847|34796|  1|1237835968|\n",
            "|111167|726493|  999|  2|1239120425|   css,css-selectors|169|  6|726508|23528|  7|1239120706|\n",
            "+------+------+-----+---+----------+--------------------+---+---+------+-----+---+----------+\n",
            "only showing top 20 rows\n",
            "\n"
          ]
        }
      ],
      "source": [
        "df_pyspark = spark.read.option('header', 'true').csv('answers.csv')\n",
        "df_pyspark = df_pyspark.repartition(100)\n",
        "df_pyspark.show()"
      ]
    },
    {
      "cell_type": "code",
      "execution_count": 34,
      "metadata": {
        "colab": {
          "base_uri": "https://localhost:8080/"
        },
        "id": "zWSoPSqwCken",
        "outputId": "6a9d600e-2d18-4fab-b1bf-5711e452e41f"
      },
      "outputs": [
        {
          "output_type": "execute_result",
          "data": {
            "text/plain": [
              "263540"
            ]
          },
          "metadata": {},
          "execution_count": 34
        }
      ],
      "source": [
        "# Print number of rows.\n",
        "df_pyspark.count()"
      ]
    },
    {
      "cell_type": "code",
      "execution_count": 35,
      "metadata": {
        "colab": {
          "base_uri": "https://localhost:8080/"
        },
        "id": "dQ3hEbF9CPtk",
        "outputId": "c1014784-8340-4137-da4b-610c50d6b285"
      },
      "outputs": [
        {
          "output_type": "stream",
          "name": "stdout",
          "text": [
            "root\n",
            " |-- _c0: string (nullable = true)\n",
            " |-- qid: string (nullable = true)\n",
            " |-- i: string (nullable = true)\n",
            " |-- qs: string (nullable = true)\n",
            " |-- qt: string (nullable = true)\n",
            " |-- tags: string (nullable = true)\n",
            " |-- qvc: string (nullable = true)\n",
            " |-- qac: string (nullable = true)\n",
            " |-- aid: string (nullable = true)\n",
            " |-- j: string (nullable = true)\n",
            " |-- as: string (nullable = true)\n",
            " |-- at: string (nullable = true)\n",
            "\n"
          ]
        }
      ],
      "source": [
        "# Print schema.\n",
        "df_pyspark.printSchema()"
      ]
    },
    {
      "cell_type": "markdown",
      "metadata": {
        "id": "KCl9dbfcNwtS"
      },
      "source": [
        "# Transformation\n"
      ]
    },
    {
      "cell_type": "markdown",
      "metadata": {
        "id": "J9fwYbGSDQPx"
      },
      "source": [
        "## Column Names\n",
        "\n",
        "First we are going to beautify the dataframe a little.\n",
        "\n",
        "Let us begin with the column names. Currently, they are unreadable."
      ]
    },
    {
      "cell_type": "code",
      "execution_count": 36,
      "metadata": {
        "colab": {
          "base_uri": "https://localhost:8080/"
        },
        "id": "ryI26rOdCPyO",
        "outputId": "6e58f6b9-7d98-4bdd-b11a-bf7cd886b8d0"
      },
      "outputs": [
        {
          "output_type": "stream",
          "name": "stdout",
          "text": [
            "+------+-----------+-------------+--------------+-------------+--------------------+---------+-----------+---------+-----------+------------+-----------+\n",
            "|   _c0|question_id|questioner_id|question_score|question_time|                tags|num_views|num_answers|answer_id|answerer_id|answer_score|answer_time|\n",
            "+------+-----------+-------------+--------------+-------------+--------------------+---------+-----------+---------+-----------+------------+-----------+\n",
            "| 39295|     620506|        48789|             2|   1236375123|      delphi,records|      321|          5|   623032|      75188|           0| 1236486582|\n",
            "| 80135|     680343|        81419|             1|   1237959599|ajax,rails,script...|       80|          1|   680376|      38426|           2| 1237960597|\n",
            "| 76039|     674147|         4906|             0|   1237826484|              vb,vb6|      183|          4|   674159|      75694|           0| 1237826668|\n",
            "| 58809|     648923|        39036|             0|   1237165483|best-practices,su...|      207|          9|   648936|      16076|           1| 1237166046|\n",
            "|143886|     775168|         4593|             6|   1240357880|math,latex,mathml...|      320|         12|   775385|      78374|           1| 1240363859|\n",
            "+------+-----------+-------------+--------------+-------------+--------------------+---------+-----------+---------+-----------+------------+-----------+\n",
            "only showing top 5 rows\n",
            "\n"
          ]
        }
      ],
      "source": [
        "df_pyspark = df_pyspark.withColumnRenamed(\"qid\", \"question_id\")\n",
        "df_pyspark = df_pyspark.withColumnRenamed(\"i\", \"questioner_id\")\n",
        "df_pyspark = df_pyspark.withColumnRenamed(\"qs\", \"question_score\")\n",
        "df_pyspark = df_pyspark.withColumnRenamed(\"qt\", \"question_time\")\n",
        "# \"tags\" stay the same.\n",
        "df_pyspark = df_pyspark.withColumnRenamed(\"qvc\", \"num_views\")\n",
        "df_pyspark = df_pyspark.withColumnRenamed(\"qac\", \"num_answers\")\n",
        "df_pyspark = df_pyspark.withColumnRenamed(\"aid\", \"answer_id\")\n",
        "df_pyspark = df_pyspark.withColumnRenamed(\"j\", \"answerer_id\")\n",
        "df_pyspark = df_pyspark.withColumnRenamed(\"as\", \"answer_score\")\n",
        "df_pyspark = df_pyspark.withColumnRenamed(\"at\", \"answer_time\")\n",
        "\n",
        "# Print top 5.\n",
        "df_pyspark.show(5)\n"
      ]
    },
    {
      "cell_type": "markdown",
      "metadata": {
        "id": "zWbWm7wINsm_"
      },
      "source": [
        "## Schema\n",
        "\n",
        "You may have noticed above that all the columns are nullable string types. That won't do.\n",
        "\n",
        "\n"
      ]
    },
    {
      "cell_type": "code",
      "execution_count": 37,
      "metadata": {
        "id": "FHEcxAcqCP7z"
      },
      "outputs": [],
      "source": [
        "from pyspark.sql.functions import col\n",
        "\n",
        "# List all columns except 'tags'.\n",
        "cols_to_cast = [c for c in df_pyspark.columns if c != 'tags']\n",
        "\n",
        "# Cast columns to integer and handle conversion errors by turning invalid values into nulls.\n",
        "df_pyspark = df_pyspark.select(\n",
        "    [col(c).cast('integer').alias(c) if c in cols_to_cast else col(c) for c in df_pyspark.columns]\n",
        ")\n",
        "df_pyspark = df_pyspark.repartition(100)"
      ]
    },
    {
      "cell_type": "markdown",
      "metadata": {
        "id": "-MoU4JduQqN0"
      },
      "source": [
        "Since this is data produced by a machine we can expect all column values to be present. If one is not present, clearly the data is corrupted. Remove those rows."
      ]
    },
    {
      "cell_type": "code",
      "execution_count": 38,
      "metadata": {
        "id": "jQ6SSFDFCQAl"
      },
      "outputs": [],
      "source": [
        "# Drop rows where any of the integer columns are null (conversion failed or original nulls).\n",
        "df_pyspark = df_pyspark.dropna(subset=cols_to_cast)"
      ]
    },
    {
      "cell_type": "markdown",
      "metadata": {
        "id": "TnfD9bWQQ88N"
      },
      "source": [
        "Let us take a look at our data now."
      ]
    },
    {
      "cell_type": "code",
      "execution_count": 39,
      "metadata": {
        "colab": {
          "base_uri": "https://localhost:8080/"
        },
        "id": "68DPNiCGRAP5",
        "outputId": "91e4a322-5322-4fef-a272-b3a558e9c7e3"
      },
      "outputs": [
        {
          "output_type": "stream",
          "name": "stdout",
          "text": [
            "+-----+-----------+-------------+--------------+-------------+--------------------+---------+-----------+---------+-----------+------------+-----------+\n",
            "|  _c0|question_id|questioner_id|question_score|question_time|                tags|num_views|num_answers|answer_id|answerer_id|answer_score|answer_time|\n",
            "+-----+-----------+-------------+--------------+-------------+--------------------+---------+-----------+---------+-----------+------------+-----------+\n",
            "|63405|     655696|        57698|             4|   1237318707|teaching,learning...|      417|         21|   655707|       5812|           4| 1237319016|\n",
            "|50948|     637636|        70716|             0|   1236842639|wpf,font,underlin...|      425|          1|   637711|        233|           3| 1236845834|\n",
            "|14370|     584449|        70615|             1|   1235526736|java,swing,gui,ev...|       64|          2|   584459|      20029|           4| 1235527074|\n",
            "|25688|     600770|        65764|             2|   1235949093|cocoa-touch,cocoa...|      222|          3|   600820|      19679|           0| 1235950248|\n",
            "|83793|     685951|        67396|             1|   1238076476|         winsock,c++|      298|          3|   685986|       7925|           2| 1238077057|\n",
            "+-----+-----------+-------------+--------------+-------------+--------------------+---------+-----------+---------+-----------+------------+-----------+\n",
            "only showing top 5 rows\n",
            "\n"
          ]
        }
      ],
      "source": [
        "df_pyspark.show(5)"
      ]
    },
    {
      "cell_type": "code",
      "execution_count": 40,
      "metadata": {
        "colab": {
          "base_uri": "https://localhost:8080/"
        },
        "id": "owRkYON6RAY3",
        "outputId": "87b74870-e270-46d4-b53f-2bbf26169683"
      },
      "outputs": [
        {
          "output_type": "execute_result",
          "data": {
            "text/plain": [
              "263132"
            ]
          },
          "metadata": {},
          "execution_count": 40
        }
      ],
      "source": [
        "# Print number of rows.\n",
        "df_pyspark.count()"
      ]
    },
    {
      "cell_type": "code",
      "execution_count": 41,
      "metadata": {
        "colab": {
          "base_uri": "https://localhost:8080/"
        },
        "id": "2ffRsEzrRAhF",
        "outputId": "a324cec1-5a4a-4015-bcc5-8041dd3e0e28"
      },
      "outputs": [
        {
          "output_type": "stream",
          "name": "stdout",
          "text": [
            "root\n",
            " |-- _c0: integer (nullable = true)\n",
            " |-- question_id: integer (nullable = true)\n",
            " |-- questioner_id: integer (nullable = true)\n",
            " |-- question_score: integer (nullable = true)\n",
            " |-- question_time: integer (nullable = true)\n",
            " |-- tags: string (nullable = true)\n",
            " |-- num_views: integer (nullable = true)\n",
            " |-- num_answers: integer (nullable = true)\n",
            " |-- answer_id: integer (nullable = true)\n",
            " |-- answerer_id: integer (nullable = true)\n",
            " |-- answer_score: integer (nullable = true)\n",
            " |-- answer_time: integer (nullable = true)\n",
            "\n"
          ]
        }
      ],
      "source": [
        "# Print schema.\n",
        "df_pyspark.printSchema()"
      ]
    },
    {
      "cell_type": "markdown",
      "metadata": {
        "id": "-OzLPBcmSIS9"
      },
      "source": [
        "## Encoding\n",
        "\n",
        "We are getting there. But one column is still problematic. Tags column needs to be one-hot encoded. In order to preserve the resources though, we will on hot encode this later, once we have grouped by the question."
      ]
    },
    {
      "cell_type": "markdown",
      "metadata": {
        "id": "tkMQpBa5W5EX"
      },
      "source": [
        "# Aggregation"
      ]
    },
    {
      "cell_type": "code",
      "execution_count": 42,
      "metadata": {
        "colab": {
          "base_uri": "https://localhost:8080/"
        },
        "id": "ED2ohrviZ6eN",
        "outputId": "416898e6-f88a-4a12-da3d-1522ac44a013"
      },
      "outputs": [
        {
          "output_type": "stream",
          "name": "stdout",
          "text": [
            "+-----------+-------------+--------------+-------------+----------------------------------------+---------+-----------+----+-------+--------+-----------------+-------+-----------+\n",
            "|question_id|questioner_id|question_score|question_time|tags                                    |num_views|num_answers|tta |ttla   |num_tags|time_since_posted|weekday|hour_of_day|\n",
            "+-----------+-------------+--------------+-------------+----------------------------------------+---------+-----------+----+-------+--------+-----------------+-------+-----------+\n",
            "|953099     |114492       |0             |1244149593   |javascript                              |50       |2          |143 |295    |1       |3                |5      |21         |\n",
            "|867754     |99268        |-1            |1242380156   |sqlserver2000,c#ûnet                    |19       |1          |299 |299    |2       |23               |6      |9          |\n",
            "|887286     |4172         |3             |1242816897   |best-practices,design,project-management|195      |12         |255 |1087553|3       |18               |4      |10         |\n",
            "|867691     |107582       |1             |1242378626   |msbuild,list,defined,build,properties   |43       |2          |1181|19229  |5       |23               |6      |9          |\n",
            "|839221     |102317       |0             |1241778738   |domain,difference                       |64       |4          |92  |2717   |2       |30               |6      |10         |\n",
            "+-----------+-------------+--------------+-------------+----------------------------------------+---------+-----------+----+-------+--------+-----------------+-------+-----------+\n",
            "only showing top 5 rows\n",
            "\n"
          ]
        }
      ],
      "source": [
        "df = df_pyspark\n",
        "\n",
        "# Compute the time to the first answer (tta) for each question\n",
        "window_spec = Window.partitionBy(\"question_id\").orderBy(\"answer_time\")\n",
        "\n",
        "# Add a column for the time to first answer (relative to question_time)\n",
        "df = df.withColumn(\"tta\", F.min(F.col(\"answer_time\") - F.col(\"question_time\")).over(window_spec))\n",
        "df = df.withColumn(\"ttla\", F.max(F.col(\"answer_time\") - F.col(\"question_time\")).over(window_spec))\n",
        "\n",
        "# Add a column for the number of tags (num_tags)\n",
        "# Splitting the tags column by commas and counting the resulting elements gives the total number of tags per question\n",
        "df = df.withColumn(\"num_tags\", F.size(F.split(F.col(\"tags\"), \",\")))\n",
        "\n",
        "# Add a column for the time since the question was posted\n",
        "# Set the fixed maximum date for the dataset (June 7, 2009 - as given in the dataset)\n",
        "# Convert question_time (epoch) to DATE format, then calculate days since the question was posted\n",
        "max_date = F.to_date(F.lit(\"2009-06-07\"))\n",
        "df = df.withColumn(\"question_date\", F.to_date(F.from_unixtime(F.col(\"question_time\")))) \\\n",
        "       .withColumn(\"time_since_posted\", F.datediff(max_date, F.col(\"question_date\")))\n",
        "\n",
        "# Add temporal features: weekday and hour of day\n",
        "# Extract the day of the week when the question was posted (1 = Sunday, 7 = Saturday)\n",
        "# Extract the hour of the day (0-23) when the question was posted to capture patterns of activity\n",
        "df = df.withColumn(\"weekday\", F.dayofweek(F.col(\"question_date\"))) \\\n",
        "       .withColumn(\"hour_of_day\", F.hour(F.from_unixtime(F.col(\"question_time\"))))\n",
        "\n",
        "# Aggregate the results for each question_id\n",
        "# Combine all the computed features along with the original attributes into a single DataFrame\n",
        "result_df = df.groupBy(\"question_id\").agg(\n",
        "    F.first(\"questioner_id\").alias(\"questioner_id\"),  # User ID of the person who posted the question\n",
        "    F.first(\"question_score\").alias(\"question_score\"),  # Community score of the question\n",
        "    F.first(\"question_time\").alias(\"question_time\"),  # Timestamp of when the question was posted\n",
        "    F.first(\"tags\").alias(\"tags\"),  # Original tags associated with the question\n",
        "    F.first(\"num_views\").alias(\"num_views\"),  # Target variable: Number of views of the question\n",
        "    F.first(\"num_answers\").alias(\"num_answers\"),  # Total number of answers to the question\n",
        "    F.min(\"tta\").alias(\"tta\"),  # Time to the first answer (relative to question_time)\n",
        "    F.max(\"ttla\").alias(\"ttla\"),  # Time to the last answer (relative to question_time)\n",
        "    F.first(\"num_tags\").alias(\"num_tags\"),  # Number of tags associated with the question\n",
        "    F.first(\"time_since_posted\").alias(\"time_since_posted\"),  # Total days since the question was posted\n",
        "    F.first(\"weekday\").alias(\"weekday\"),  # Day of the week when the question was posted\n",
        "    F.first(\"hour_of_day\").alias(\"hour_of_day\")  # Hour of the day when the question was posted\n",
        ")\n",
        "\n",
        "result_df = result_df.repartition(100)\n",
        "\n",
        "# Display the first few rows of the aggregated DataFrame\n",
        "result_df.show(5, truncate=False)\n"
      ]
    },
    {
      "cell_type": "code",
      "execution_count": 43,
      "metadata": {
        "colab": {
          "base_uri": "https://localhost:8080/"
        },
        "id": "uCKgWo8IaFws",
        "outputId": "16936cc1-e4a1-4c24-c10c-00603f29e961"
      },
      "outputs": [
        {
          "output_type": "execute_result",
          "data": {
            "text/plain": [
              "83342"
            ]
          },
          "metadata": {},
          "execution_count": 43
        }
      ],
      "source": [
        "result_df.count()"
      ]
    },
    {
      "cell_type": "markdown",
      "metadata": {
        "id": "pxH1RR7Nr82F"
      },
      "source": [
        "Clearly we must reduce this number. 80k dimensions is not feasible for small-scale machine learning. We will only take the most common tags."
      ]
    },
    {
      "cell_type": "code",
      "execution_count": 44,
      "metadata": {
        "colab": {
          "base_uri": "https://localhost:8080/"
        },
        "id": "L6d_VUDqa43k",
        "outputId": "74fe7b12-d7fa-4ce1-95d0-e27856e0e187"
      },
      "outputs": [
        {
          "output_type": "stream",
          "name": "stdout",
          "text": [
            "+--------------+-----+\n",
            "|tag           |count|\n",
            "+--------------+-----+\n",
            "|c#            |38330|\n",
            "|java          |19965|\n",
            "|ûnet          |19465|\n",
            "|c++           |17418|\n",
            "|aspûnet       |14510|\n",
            "|php           |12891|\n",
            "|javascript    |12584|\n",
            "|subjective    |12374|\n",
            "|python        |10010|\n",
            "|sql           |9682 |\n",
            "|best-practices|8633 |\n",
            "|c             |8077 |\n",
            "|sqlserver     |7477 |\n",
            "|jquery        |7011 |\n",
            "|html          |6796 |\n",
            "|mysql         |5534 |\n",
            "|iphone        |5018 |\n",
            "|windows       |4948 |\n",
            "|css           |4774 |\n",
            "|database      |4734 |\n",
            "+--------------+-----+\n",
            "only showing top 20 rows\n",
            "\n"
          ]
        }
      ],
      "source": [
        "# Find all unique tags and\n",
        "# Split the tags column into an array of tags, then explode it to get one tag per row\n",
        "df = df.repartition(100) # repartition to redistribute the data on multiple partitions instead of one\n",
        "tags_df = df.withColumn(\"tag\", F.explode(F.split(F.col(\"tags\"), \",\")))\n",
        "\n",
        "# Group by tag and count the occurrences\n",
        "tag_counts_df = tags_df.groupBy(\"tag\").agg(F.count(\"*\").alias(\"count\"))\n",
        "\n",
        "tag_counts_df = tag_counts_df.repartition(100)\n",
        "\n",
        "# Show the tags with their counts\n",
        "tag_counts_df.orderBy(F.desc(\"count\")).show(truncate=False)"
      ]
    },
    {
      "cell_type": "code",
      "execution_count": 45,
      "metadata": {
        "id": "b9ZAyhhha5E5"
      },
      "outputs": [],
      "source": [
        "# Make a list of the 250 most used tags.\n",
        "most_used_tags = tag_counts_df.orderBy(F.desc(\"count\")).limit(250).select(\"tag\").collect()\n",
        "most_used_tags = [row.tag for row in most_used_tags]\n",
        "#most_used_tags"
      ]
    },
    {
      "cell_type": "code",
      "execution_count": 46,
      "metadata": {
        "colab": {
          "base_uri": "https://localhost:8080/"
        },
        "id": "V8oZw69Fa5Sl",
        "outputId": "14b8c4cf-b918-40e8-86da-6f4e5ce8cacc"
      },
      "outputs": [
        {
          "output_type": "stream",
          "name": "stdout",
          "text": [
            "+-----------+-------------+--------------+-------------+--------------------+---------+-----------+----+-------+--------+-----------------+-------+-----------+\n",
            "|question_id|questioner_id|question_score|question_time|                tags|num_views|num_answers| tta|   ttla|num_tags|time_since_posted|weekday|hour_of_day|\n",
            "+-----------+-------------+--------------+-------------+--------------------+---------+-----------+----+-------+--------+-----------------+-------+-----------+\n",
            "|     953099|       114492|             0|   1244149593|          javascript|       50|          2| 143|    295|       1|                3|      5|         21|\n",
            "|     867754|        99268|            -1|   1242380156|                    |       19|          1| 299|    299|       2|               23|      6|          9|\n",
            "|     887286|         4172|             3|   1242816897|best-practices,de...|      195|         12| 255|1087553|       3|               18|      4|         10|\n",
            "|     867691|       107582|             1|   1242378626|     list,properties|       43|          2|1181|  19229|       5|               23|      6|          9|\n",
            "|     839221|       102317|             0|   1241778738|                    |       64|          4|  92|   2717|       2|               30|      6|         10|\n",
            "+-----------+-------------+--------------+-------------+--------------------+---------+-----------+----+-------+--------+-----------------+-------+-----------+\n",
            "only showing top 5 rows\n",
            "\n"
          ]
        }
      ],
      "source": [
        "def filter_most_used_tags(result_df, most_used_tags):\n",
        "    most_used_tags_broadcast = spark.sparkContext.broadcast(set(most_used_tags))\n",
        "\n",
        "    filtered_df = result_df.withColumn(\"tags\", F.expr(f\"\"\" filter( split(tags, ','),\n",
        "                                        tag -> array_contains(array({','.join([f\"'{tag}'\" for tag in most_used_tags_broadcast.value])}), tag))\"\"\")\n",
        "                                        ).withColumn(\"tags\", F.concat_ws(\",\", F.col(\"tags\")))\n",
        "\n",
        "    return filtered_df\n",
        "\n",
        "# Repartition for better parallelism\n",
        "result_df = result_df.repartition(100)\n",
        "filtered_result_df = filter_most_used_tags(result_df, most_used_tags)\n",
        "filtered_result_df.show(5)"
      ]
    },
    {
      "cell_type": "markdown",
      "metadata": {
        "id": "mZM_HD-Zr2LP"
      },
      "source": [
        "Now we can one-hot encode the tags column."
      ]
    },
    {
      "cell_type": "code",
      "execution_count": 47,
      "metadata": {
        "colab": {
          "base_uri": "https://localhost:8080/"
        },
        "id": "ZKYeZlqJa5hJ",
        "outputId": "4e2d0f76-1d91-4313-df51-b5bf395b64fb"
      },
      "outputs": [
        {
          "output_type": "stream",
          "name": "stdout",
          "text": [
            "+-----------+-------------+--------------+-------------+--------------------+---------+-----------+----+-------+--------+-----------------+-------+-----------+------+--------+--------+-------+-----------+-------+--------------+--------------+----------+-------+------------------+-----+-------------+----------+--------+---------+----------+-----------+-------+------------+---------------+---------------------------+---------+---------------------+--------+-------------------+---------+----------+-------+---------------+------------+----------------+-------+---------------+---------------+-------------+------------+---------+----------+--------+--------+-----------------+--------------------+----------+------------+--------+------------+---------------+-------+--------------+----------+-------------------------+----------+----------+----------------+--------+---------------+-------------------+------------+---------+------------------+----------------+-------+--------+-------------+-------------+-------+-------------------+--------------+---------+--------+-------+------------+----------+---------------+----------------------+----------------+---------+--------+-------+--------+------------+---------+-----------+--------+-------+---------+---------------+----------------+--------------+--------------+-------+---------+----------------------+--------------+-------+---------+-------+--------------------------+-------------+-------+-------+----------+------------------+----------+-----------------+--------------------+--------------+-------------------+-------------+------------+--------------+--------------+------------+-------+-----------+---------+---------+-----------+-------+----------+---------------+--------------------+--------+--------+-------+-----------------+---------+---------------------+-----------+------+-----------+---------------+-------+--------------+----------------+---------+--------+---------+---------+----------------+--------------------+-------------------+---------+-----------+----------+---------+-----------+-------+-------+-----------------+---------------+---------------------+------------------------+-----------+----------+--------------------------+---------------+---------+----------+-----------------------+--------------------+-------+-------------+--------+--------+--------------+------------------+-------------+----------+-----------+-----------------------+--------------+----------+--------+----------------------+--------------+------------+----------+-------------+-----------+-------+------------------------+----------------+----------+-------------+---------+-----------------+-----------+-------+--------------+-------+---------------------+-------+--------------------+-------+----------+------------+-------+--------------+-----------+---------+-------+-----------------+------------------+--------+----------+-----------+-----------+-------+-----------+-----------+------------+--------------+------------------+------+--------------+------------+---------------+-----------+----------+-------------+-------------+---------+--------+--------------+----------+---------+-----------+-----------+---------+---------+-------+--------+--------+-------+--------------+--------+------+----------------------+---------------------+--------+-------------+-----------+------------+-----------+----------+-----------------+--------------------+----------------------+\n",
            "|question_id|questioner_id|question_score|question_time|                tags|num_views|num_answers| tta|   ttla|num_tags|time_since_posted|weekday|hour_of_day|tag_c#|tag_java|tag_ûnet|tag_c++|tag_aspûnet|tag_php|tag_javascript|tag_subjective|tag_python|tag_sql|tag_best-practices|tag_c|tag_sqlserver|tag_jquery|tag_html|tag_mysql|tag_iphone|tag_windows|tag_css|tag_database|tag_aspûnet-mvc|tag_not-programming-related|tag_linux|tag_language-agnostic|tag_ruby|tag_web-development|tag_regex|tag_vbûnet|tag_wpf|tag_programming|tag_beginner|tag_visualstudio|tag_xml|tag_objective-c|tag_performance|tag_algorithm|tag_winforms|tag_rails|tag_design|tag_ajax|tag_linq|tag_sqlserver2005|tag_visualstudio2008|tag_delphi|tag_security|tag_perl|tag_homework|tag_rubyonrails|tag_svn|tag_iphone-sdk|tag_django|tag_programming-languages|tag_string|tag_oracle|tag_unit-testing|tag_tsql|tag_cocoa-touch|tag_design-patterns|tag_learning|tag_cocoa|tag_multithreading|tag_optimization|tag_oop|tag_flex|tag_linqtosql|tag_debugging|tag_wcf|tag_database-design|tag_sharepoint|tag_flash|tag_math|tag_gui|tag_generics|tag_arrays|tag_silverlight|tag_career-development|tag_web-services|tag_win32|tag_bash|tag_mvc|tag_unix|tag_compiler|tag_books|tag_eclipse|tag_http|tag_iis|tag_excel|tag_open-source|tag_architecture|tag_exceptions|tag_nhibernate|tag_web|tag_query|tag_project-management|tag_subversion|tag_git|tag_tools|tag_vim|tag_object-oriented-design|tag_ms-access|tag_ide|tag_stl|tag_memory|tag_source-control|tag_apache|tag_actionscript3|tag_web-applications|tag_reflection|tag_data-structures|tag_hibernate|tag_datetime|tag_networking|tag_discussion|tag_pointers|tag_mac|tag_parsing|tag_email|tag_array|tag_testing|tag_api|tag_events|tag_inheritance|tag_game-development|tag_json|tag_file|tag_fun|tag_documentation|tag_swing|tag_memory-management|tag_ûnet3û5|tag_ie|tag_firefox|tag_collections|tag_url|tag_validation|tag_command-line|tag_class|tag_list|tag_shell|tag_error|tag_coding-style|tag_entity-framework|tag_version-control|tag_files|tag_logging|tag_sqlite|tag_forms|tag_sockets|tag_pdf|tag_dom|tag_serialization|tag_refactoring|tag_stored-procedures|tag_software-development|tag_browser|tag_search|tag_functional-programming|tag_databinding|tag_emacs|tag_syntax|tag_string-manipulation|tag_visualstudio2005|tag_vb6|tag_templates|tag_xaml|tag_xslt|tag_deployment|tag_authentication|tag_threading|tag_opengl|tag_sorting|tag_interview-questions|tag_postgresql|tag_newbie|tag_jobs|tag_naming-conventions|tag_encryption|tag_graphics|tag_images|tag_libraries|tag_session|tag_dll|tag_software-engineering|tag_productivity|tag_spring|tag_scripting|tag_xcode|tag_sqlserver2008|tag_adoûnet|tag_osx|tag_conversion|tag_com|tag_internet-explorer|tag_vba|tag_computer-science|tag_orm|tag_server|tag_embedded|tag_jsp|tag_webservice|tag_file-io|tag_image|tag_tdd|tag_configuration|tag_user-interface|tag_text|tag_career|tag_strings|tag_unicode|tag_gcc|tag_threads|tag_ûnet2û0|tag_gridview|tag_properties|tag_zend-framework|tag_qt|tag_powershell|tag_assembly|tag_concurrency|tag_library|tag_google|tag_variables|tag_interface|tag_vista|tag_join|tag_frameworks|tag_static|tag_table|tag_website|tag_process|tag_xhtml|tag_boost|tag_as3|tag_date|tag_null|tag_mfc|tag_formatting|tag_rest|tag_ui|tag_exception-handling|tag_google-app-engine|tag_hash|tag_visualc++|tag_casting|tag_function|tag_haskell|tag_tomcat|tag_windowsmobile|tag_self-improvement|tag_garbage-collection|\n",
            "+-----------+-------------+--------------+-------------+--------------------+---------+-----------+----+-------+--------+-----------------+-------+-----------+------+--------+--------+-------+-----------+-------+--------------+--------------+----------+-------+------------------+-----+-------------+----------+--------+---------+----------+-----------+-------+------------+---------------+---------------------------+---------+---------------------+--------+-------------------+---------+----------+-------+---------------+------------+----------------+-------+---------------+---------------+-------------+------------+---------+----------+--------+--------+-----------------+--------------------+----------+------------+--------+------------+---------------+-------+--------------+----------+-------------------------+----------+----------+----------------+--------+---------------+-------------------+------------+---------+------------------+----------------+-------+--------+-------------+-------------+-------+-------------------+--------------+---------+--------+-------+------------+----------+---------------+----------------------+----------------+---------+--------+-------+--------+------------+---------+-----------+--------+-------+---------+---------------+----------------+--------------+--------------+-------+---------+----------------------+--------------+-------+---------+-------+--------------------------+-------------+-------+-------+----------+------------------+----------+-----------------+--------------------+--------------+-------------------+-------------+------------+--------------+--------------+------------+-------+-----------+---------+---------+-----------+-------+----------+---------------+--------------------+--------+--------+-------+-----------------+---------+---------------------+-----------+------+-----------+---------------+-------+--------------+----------------+---------+--------+---------+---------+----------------+--------------------+-------------------+---------+-----------+----------+---------+-----------+-------+-------+-----------------+---------------+---------------------+------------------------+-----------+----------+--------------------------+---------------+---------+----------+-----------------------+--------------------+-------+-------------+--------+--------+--------------+------------------+-------------+----------+-----------+-----------------------+--------------+----------+--------+----------------------+--------------+------------+----------+-------------+-----------+-------+------------------------+----------------+----------+-------------+---------+-----------------+-----------+-------+--------------+-------+---------------------+-------+--------------------+-------+----------+------------+-------+--------------+-----------+---------+-------+-----------------+------------------+--------+----------+-----------+-----------+-------+-----------+-----------+------------+--------------+------------------+------+--------------+------------+---------------+-----------+----------+-------------+-------------+---------+--------+--------------+----------+---------+-----------+-----------+---------+---------+-------+--------+--------+-------+--------------+--------+------+----------------------+---------------------+--------+-------------+-----------+------------+-----------+----------+-----------------+--------------------+----------------------+\n",
            "|     953099|       114492|             0|   1244149593|          javascript|       50|          2| 143|    295|       1|                3|      5|         21|     0|       0|       0|      0|          0|      0|             1|             0|         0|      0|                 0|    0|            0|         0|       0|        0|         0|          0|      0|           0|              0|                          0|        0|                    0|       0|                  0|        0|         0|      0|              0|           0|               0|      0|              0|              0|            0|           0|        0|         0|       0|       0|                0|                   0|         0|           0|       0|           0|              0|      0|             0|         0|                        0|         0|         0|               0|       0|              0|                  0|           0|        0|                 0|               0|      0|       0|            0|            0|      0|                  0|             0|        0|       0|      0|           0|         0|              0|                     0|               0|        0|       0|      0|       0|           0|        0|          0|       0|      0|        0|              0|               0|             0|             0|      0|        0|                     0|             0|      0|        0|      0|                         0|            0|      0|      0|         0|                 0|         0|                0|                   0|             0|                  0|            0|           0|             0|             0|           0|      0|          0|        0|        0|          0|      0|         0|              0|                   0|       0|       0|      0|                0|        0|                    0|          0|     0|          0|              0|      0|             0|               0|        0|       0|        0|        0|               0|                   0|                  0|        0|          0|         0|        0|          0|      0|      0|                0|              0|                    0|                       0|          0|         0|                         0|              0|        0|         0|                      0|                   0|      0|            0|       0|       0|             0|                 0|            0|         0|          0|                      0|             0|         0|       0|                     0|             0|           0|         0|            0|          0|      0|                       0|               0|         0|            0|        0|                0|          0|      0|             0|      0|                    0|      0|                   0|      0|         0|           0|      0|             0|          0|        0|      0|                0|                 0|       0|         0|          0|          0|      0|          0|          0|           0|             0|                 0|     0|             0|           0|              0|          0|         0|            0|            0|        0|       0|             0|         0|        0|          0|          0|        0|        0|      0|       0|       0|      0|             0|       0|     0|                     0|                    0|       0|            0|          0|           0|          0|         0|                0|                   0|                     0|\n",
            "|     867754|        99268|            -1|   1242380156|                    |       19|          1| 299|    299|       2|               23|      6|          9|     0|       0|       0|      0|          0|      0|             0|             0|         0|      0|                 0|    0|            0|         0|       0|        0|         0|          0|      0|           0|              0|                          0|        0|                    0|       0|                  0|        0|         0|      0|              0|           0|               0|      0|              0|              0|            0|           0|        0|         0|       0|       0|                0|                   0|         0|           0|       0|           0|              0|      0|             0|         0|                        0|         0|         0|               0|       0|              0|                  0|           0|        0|                 0|               0|      0|       0|            0|            0|      0|                  0|             0|        0|       0|      0|           0|         0|              0|                     0|               0|        0|       0|      0|       0|           0|        0|          0|       0|      0|        0|              0|               0|             0|             0|      0|        0|                     0|             0|      0|        0|      0|                         0|            0|      0|      0|         0|                 0|         0|                0|                   0|             0|                  0|            0|           0|             0|             0|           0|      0|          0|        0|        0|          0|      0|         0|              0|                   0|       0|       0|      0|                0|        0|                    0|          0|     0|          0|              0|      0|             0|               0|        0|       0|        0|        0|               0|                   0|                  0|        0|          0|         0|        0|          0|      0|      0|                0|              0|                    0|                       0|          0|         0|                         0|              0|        0|         0|                      0|                   0|      0|            0|       0|       0|             0|                 0|            0|         0|          0|                      0|             0|         0|       0|                     0|             0|           0|         0|            0|          0|      0|                       0|               0|         0|            0|        0|                0|          0|      0|             0|      0|                    0|      0|                   0|      0|         0|           0|      0|             0|          0|        0|      0|                0|                 0|       0|         0|          0|          0|      0|          0|          0|           0|             0|                 0|     0|             0|           0|              0|          0|         0|            0|            0|        0|       0|             0|         0|        0|          0|          0|        0|        0|      0|       0|       0|      0|             0|       0|     0|                     0|                    0|       0|            0|          0|           0|          0|         0|                0|                   0|                     0|\n",
            "|     887286|         4172|             3|   1242816897|best-practices,de...|      195|         12| 255|1087553|       3|               18|      4|         10|     0|       0|       0|      0|          0|      0|             0|             0|         0|      0|                 1|    0|            0|         0|       0|        0|         0|          0|      0|           0|              0|                          0|        0|                    0|       0|                  0|        0|         0|      0|              0|           0|               0|      0|              0|              0|            0|           0|        0|         1|       0|       0|                0|                   0|         0|           0|       0|           0|              0|      0|             0|         0|                        0|         0|         0|               0|       0|              0|                  0|           0|        0|                 0|               0|      0|       0|            0|            0|      0|                  0|             0|        0|       0|      0|           0|         0|              0|                     0|               0|        0|       0|      0|       0|           0|        0|          0|       0|      0|        0|              0|               0|             0|             0|      0|        0|                     1|             0|      0|        0|      0|                         0|            0|      0|      0|         0|                 0|         0|                0|                   0|             0|                  0|            0|           0|             0|             0|           0|      0|          0|        0|        0|          0|      0|         0|              0|                   0|       0|       0|      0|                0|        0|                    0|          0|     0|          0|              0|      0|             0|               0|        0|       0|        0|        0|               0|                   0|                  0|        0|          0|         0|        0|          0|      0|      0|                0|              0|                    0|                       0|          0|         0|                         0|              0|        0|         0|                      0|                   0|      0|            0|       0|       0|             0|                 0|            0|         0|          0|                      0|             0|         0|       0|                     0|             0|           0|         0|            0|          0|      0|                       0|               0|         0|            0|        0|                0|          0|      0|             0|      0|                    0|      0|                   0|      0|         0|           0|      0|             0|          0|        0|      0|                0|                 0|       0|         0|          0|          0|      0|          0|          0|           0|             0|                 0|     0|             0|           0|              0|          0|         0|            0|            0|        0|       0|             0|         0|        0|          0|          0|        0|        0|      0|       0|       0|      0|             0|       0|     0|                     0|                    0|       0|            0|          0|           0|          0|         0|                0|                   0|                     0|\n",
            "|     867691|       107582|             1|   1242378626|     list,properties|       43|          2|1181|  19229|       5|               23|      6|          9|     0|       0|       0|      0|          0|      0|             0|             0|         0|      0|                 0|    0|            0|         0|       0|        0|         0|          0|      0|           0|              0|                          0|        0|                    0|       0|                  0|        0|         0|      0|              0|           0|               0|      0|              0|              0|            0|           0|        0|         0|       0|       0|                0|                   0|         0|           0|       0|           0|              0|      0|             0|         0|                        0|         0|         0|               0|       0|              0|                  0|           0|        0|                 0|               0|      0|       0|            0|            0|      0|                  0|             0|        0|       0|      0|           0|         0|              0|                     0|               0|        0|       0|      0|       0|           0|        0|          0|       0|      0|        0|              0|               0|             0|             0|      0|        0|                     0|             0|      0|        0|      0|                         0|            0|      0|      0|         0|                 0|         0|                0|                   0|             0|                  0|            0|           0|             0|             0|           0|      0|          0|        0|        0|          0|      0|         0|              0|                   0|       0|       0|      0|                0|        0|                    0|          0|     0|          0|              0|      0|             0|               0|        0|       1|        0|        0|               0|                   0|                  0|        0|          0|         0|        0|          0|      0|      0|                0|              0|                    0|                       0|          0|         0|                         0|              0|        0|         0|                      0|                   0|      0|            0|       0|       0|             0|                 0|            0|         0|          0|                      0|             0|         0|       0|                     0|             0|           0|         0|            0|          0|      0|                       0|               0|         0|            0|        0|                0|          0|      0|             0|      0|                    0|      0|                   0|      0|         0|           0|      0|             0|          0|        0|      0|                0|                 0|       0|         0|          0|          0|      0|          0|          0|           0|             1|                 0|     0|             0|           0|              0|          0|         0|            0|            0|        0|       0|             0|         0|        0|          0|          0|        0|        0|      0|       0|       0|      0|             0|       0|     0|                     0|                    0|       0|            0|          0|           0|          0|         0|                0|                   0|                     0|\n",
            "|     839221|       102317|             0|   1241778738|                    |       64|          4|  92|   2717|       2|               30|      6|         10|     0|       0|       0|      0|          0|      0|             0|             0|         0|      0|                 0|    0|            0|         0|       0|        0|         0|          0|      0|           0|              0|                          0|        0|                    0|       0|                  0|        0|         0|      0|              0|           0|               0|      0|              0|              0|            0|           0|        0|         0|       0|       0|                0|                   0|         0|           0|       0|           0|              0|      0|             0|         0|                        0|         0|         0|               0|       0|              0|                  0|           0|        0|                 0|               0|      0|       0|            0|            0|      0|                  0|             0|        0|       0|      0|           0|         0|              0|                     0|               0|        0|       0|      0|       0|           0|        0|          0|       0|      0|        0|              0|               0|             0|             0|      0|        0|                     0|             0|      0|        0|      0|                         0|            0|      0|      0|         0|                 0|         0|                0|                   0|             0|                  0|            0|           0|             0|             0|           0|      0|          0|        0|        0|          0|      0|         0|              0|                   0|       0|       0|      0|                0|        0|                    0|          0|     0|          0|              0|      0|             0|               0|        0|       0|        0|        0|               0|                   0|                  0|        0|          0|         0|        0|          0|      0|      0|                0|              0|                    0|                       0|          0|         0|                         0|              0|        0|         0|                      0|                   0|      0|            0|       0|       0|             0|                 0|            0|         0|          0|                      0|             0|         0|       0|                     0|             0|           0|         0|            0|          0|      0|                       0|               0|         0|            0|        0|                0|          0|      0|             0|      0|                    0|      0|                   0|      0|         0|           0|      0|             0|          0|        0|      0|                0|                 0|       0|         0|          0|          0|      0|          0|          0|           0|             0|                 0|     0|             0|           0|              0|          0|         0|            0|            0|        0|       0|             0|         0|        0|          0|          0|        0|        0|      0|       0|       0|      0|             0|       0|     0|                     0|                    0|       0|            0|          0|           0|          0|         0|                0|                   0|                     0|\n",
            "+-----------+-------------+--------------+-------------+--------------------+---------+-----------+----+-------+--------+-----------------+-------+-----------+------+--------+--------+-------+-----------+-------+--------------+--------------+----------+-------+------------------+-----+-------------+----------+--------+---------+----------+-----------+-------+------------+---------------+---------------------------+---------+---------------------+--------+-------------------+---------+----------+-------+---------------+------------+----------------+-------+---------------+---------------+-------------+------------+---------+----------+--------+--------+-----------------+--------------------+----------+------------+--------+------------+---------------+-------+--------------+----------+-------------------------+----------+----------+----------------+--------+---------------+-------------------+------------+---------+------------------+----------------+-------+--------+-------------+-------------+-------+-------------------+--------------+---------+--------+-------+------------+----------+---------------+----------------------+----------------+---------+--------+-------+--------+------------+---------+-----------+--------+-------+---------+---------------+----------------+--------------+--------------+-------+---------+----------------------+--------------+-------+---------+-------+--------------------------+-------------+-------+-------+----------+------------------+----------+-----------------+--------------------+--------------+-------------------+-------------+------------+--------------+--------------+------------+-------+-----------+---------+---------+-----------+-------+----------+---------------+--------------------+--------+--------+-------+-----------------+---------+---------------------+-----------+------+-----------+---------------+-------+--------------+----------------+---------+--------+---------+---------+----------------+--------------------+-------------------+---------+-----------+----------+---------+-----------+-------+-------+-----------------+---------------+---------------------+------------------------+-----------+----------+--------------------------+---------------+---------+----------+-----------------------+--------------------+-------+-------------+--------+--------+--------------+------------------+-------------+----------+-----------+-----------------------+--------------+----------+--------+----------------------+--------------+------------+----------+-------------+-----------+-------+------------------------+----------------+----------+-------------+---------+-----------------+-----------+-------+--------------+-------+---------------------+-------+--------------------+-------+----------+------------+-------+--------------+-----------+---------+-------+-----------------+------------------+--------+----------+-----------+-----------+-------+-----------+-----------+------------+--------------+------------------+------+--------------+------------+---------------+-----------+----------+-------------+-------------+---------+--------+--------------+----------+---------+-----------+-----------+---------+---------+-------+--------+--------+-------+--------------+--------+------+----------------------+---------------------+--------+-------------+-----------+------------+-----------+----------+-----------------+--------------------+----------------------+\n",
            "only showing top 5 rows\n",
            "\n"
          ]
        }
      ],
      "source": [
        "# One-hot encode the tags column.\n",
        "for tag in most_used_tags:\n",
        "    filtered_result_df = filtered_result_df.withColumn(\n",
        "        \"tag_\" + tag,\n",
        "        F.when(F.array_contains(F.split(F.col(\"tags\"), \",\"), tag), 1).otherwise(0)\n",
        "    )\n",
        "\n",
        "# Show the updated DataFrame.\n",
        "filtered_result_df.show(5)"
      ]
    },
    {
      "cell_type": "markdown",
      "metadata": {
        "id": "yVZZV08TyUIB"
      },
      "source": [
        "Now we can remove everything or ML model won't need."
      ]
    },
    {
      "cell_type": "code",
      "execution_count": 48,
      "metadata": {
        "colab": {
          "base_uri": "https://localhost:8080/"
        },
        "id": "OTRP3Z2Ea5vu",
        "outputId": "6eeb5d74-bcb1-426f-e2bc-401d59cf2e0b"
      },
      "outputs": [
        {
          "output_type": "stream",
          "name": "stdout",
          "text": [
            "+--------------+---------+-----------+-----+------+--------+-----------------+-------+-----------+------+--------+--------+-------+-----------+-------+--------------+--------------+----------+-------+------------------+-----+-------------+----------+--------+---------+----------+-----------+-------+------------+---------------+---------------------------+---------+---------------------+--------+-------------------+---------+----------+-------+---------------+------------+----------------+-------+---------------+---------------+-------------+------------+---------+----------+--------+--------+-----------------+--------------------+----------+------------+--------+------------+---------------+-------+--------------+----------+-------------------------+----------+----------+----------------+--------+---------------+-------------------+------------+---------+------------------+----------------+-------+--------+-------------+-------------+-------+-------------------+--------------+---------+--------+-------+------------+----------+---------------+----------------------+----------------+---------+--------+-------+--------+------------+---------+-----------+--------+-------+---------+---------------+----------------+--------------+--------------+-------+---------+----------------------+--------------+-------+---------+-------+--------------------------+-------------+-------+-------+----------+------------------+----------+-----------------+--------------------+--------------+-------------------+-------------+------------+--------------+--------------+------------+-------+-----------+---------+---------+-----------+-------+----------+---------------+--------------------+--------+--------+-------+-----------------+---------+---------------------+-----------+------+-----------+---------------+-------+--------------+----------------+---------+--------+---------+---------+----------------+--------------------+-------------------+---------+-----------+----------+---------+-----------+-------+-------+-----------------+---------------+---------------------+------------------------+-----------+----------+--------------------------+---------------+---------+----------+-----------------------+--------------------+-------+-------------+--------+--------+--------------+------------------+-------------+----------+-----------+-----------------------+--------------+----------+--------+----------------------+--------------+------------+----------+-------------+-----------+-------+------------------------+----------------+----------+-------------+---------+-----------------+-----------+-------+--------------+-------+---------------------+-------+--------------------+-------+----------+------------+-------+--------------+-----------+---------+-------+-----------------+------------------+--------+----------+-----------+-----------+-------+-----------+-----------+------------+--------------+------------------+------+--------------+------------+---------------+-----------+----------+-------------+-------------+---------+--------+--------------+----------+---------+-----------+-----------+---------+---------+-------+--------+--------+-------+--------------+--------+------+----------------------+---------------------+--------+-------------+-----------+------------+-----------+----------+-----------------+--------------------+----------------------+\n",
            "|question_score|num_views|num_answers|  tta|  ttla|num_tags|time_since_posted|weekday|hour_of_day|tag_c#|tag_java|tag_ûnet|tag_c++|tag_aspûnet|tag_php|tag_javascript|tag_subjective|tag_python|tag_sql|tag_best-practices|tag_c|tag_sqlserver|tag_jquery|tag_html|tag_mysql|tag_iphone|tag_windows|tag_css|tag_database|tag_aspûnet-mvc|tag_not-programming-related|tag_linux|tag_language-agnostic|tag_ruby|tag_web-development|tag_regex|tag_vbûnet|tag_wpf|tag_programming|tag_beginner|tag_visualstudio|tag_xml|tag_objective-c|tag_performance|tag_algorithm|tag_winforms|tag_rails|tag_design|tag_ajax|tag_linq|tag_sqlserver2005|tag_visualstudio2008|tag_delphi|tag_security|tag_perl|tag_homework|tag_rubyonrails|tag_svn|tag_iphone-sdk|tag_django|tag_programming-languages|tag_string|tag_oracle|tag_unit-testing|tag_tsql|tag_cocoa-touch|tag_design-patterns|tag_learning|tag_cocoa|tag_multithreading|tag_optimization|tag_oop|tag_flex|tag_linqtosql|tag_debugging|tag_wcf|tag_database-design|tag_sharepoint|tag_flash|tag_math|tag_gui|tag_generics|tag_arrays|tag_silverlight|tag_career-development|tag_web-services|tag_win32|tag_bash|tag_mvc|tag_unix|tag_compiler|tag_books|tag_eclipse|tag_http|tag_iis|tag_excel|tag_open-source|tag_architecture|tag_exceptions|tag_nhibernate|tag_web|tag_query|tag_project-management|tag_subversion|tag_git|tag_tools|tag_vim|tag_object-oriented-design|tag_ms-access|tag_ide|tag_stl|tag_memory|tag_source-control|tag_apache|tag_actionscript3|tag_web-applications|tag_reflection|tag_data-structures|tag_hibernate|tag_datetime|tag_networking|tag_discussion|tag_pointers|tag_mac|tag_parsing|tag_email|tag_array|tag_testing|tag_api|tag_events|tag_inheritance|tag_game-development|tag_json|tag_file|tag_fun|tag_documentation|tag_swing|tag_memory-management|tag_ûnet3û5|tag_ie|tag_firefox|tag_collections|tag_url|tag_validation|tag_command-line|tag_class|tag_list|tag_shell|tag_error|tag_coding-style|tag_entity-framework|tag_version-control|tag_files|tag_logging|tag_sqlite|tag_forms|tag_sockets|tag_pdf|tag_dom|tag_serialization|tag_refactoring|tag_stored-procedures|tag_software-development|tag_browser|tag_search|tag_functional-programming|tag_databinding|tag_emacs|tag_syntax|tag_string-manipulation|tag_visualstudio2005|tag_vb6|tag_templates|tag_xaml|tag_xslt|tag_deployment|tag_authentication|tag_threading|tag_opengl|tag_sorting|tag_interview-questions|tag_postgresql|tag_newbie|tag_jobs|tag_naming-conventions|tag_encryption|tag_graphics|tag_images|tag_libraries|tag_session|tag_dll|tag_software-engineering|tag_productivity|tag_spring|tag_scripting|tag_xcode|tag_sqlserver2008|tag_adoûnet|tag_osx|tag_conversion|tag_com|tag_internet-explorer|tag_vba|tag_computer-science|tag_orm|tag_server|tag_embedded|tag_jsp|tag_webservice|tag_file-io|tag_image|tag_tdd|tag_configuration|tag_user-interface|tag_text|tag_career|tag_strings|tag_unicode|tag_gcc|tag_threads|tag_ûnet2û0|tag_gridview|tag_properties|tag_zend-framework|tag_qt|tag_powershell|tag_assembly|tag_concurrency|tag_library|tag_google|tag_variables|tag_interface|tag_vista|tag_join|tag_frameworks|tag_static|tag_table|tag_website|tag_process|tag_xhtml|tag_boost|tag_as3|tag_date|tag_null|tag_mfc|tag_formatting|tag_rest|tag_ui|tag_exception-handling|tag_google-app-engine|tag_hash|tag_visualc++|tag_casting|tag_function|tag_haskell|tag_tomcat|tag_windowsmobile|tag_self-improvement|tag_garbage-collection|\n",
            "+--------------+---------+-----------+-----+------+--------+-----------------+-------+-----------+------+--------+--------+-------+-----------+-------+--------------+--------------+----------+-------+------------------+-----+-------------+----------+--------+---------+----------+-----------+-------+------------+---------------+---------------------------+---------+---------------------+--------+-------------------+---------+----------+-------+---------------+------------+----------------+-------+---------------+---------------+-------------+------------+---------+----------+--------+--------+-----------------+--------------------+----------+------------+--------+------------+---------------+-------+--------------+----------+-------------------------+----------+----------+----------------+--------+---------------+-------------------+------------+---------+------------------+----------------+-------+--------+-------------+-------------+-------+-------------------+--------------+---------+--------+-------+------------+----------+---------------+----------------------+----------------+---------+--------+-------+--------+------------+---------+-----------+--------+-------+---------+---------------+----------------+--------------+--------------+-------+---------+----------------------+--------------+-------+---------+-------+--------------------------+-------------+-------+-------+----------+------------------+----------+-----------------+--------------------+--------------+-------------------+-------------+------------+--------------+--------------+------------+-------+-----------+---------+---------+-----------+-------+----------+---------------+--------------------+--------+--------+-------+-----------------+---------+---------------------+-----------+------+-----------+---------------+-------+--------------+----------------+---------+--------+---------+---------+----------------+--------------------+-------------------+---------+-----------+----------+---------+-----------+-------+-------+-----------------+---------------+---------------------+------------------------+-----------+----------+--------------------------+---------------+---------+----------+-----------------------+--------------------+-------+-------------+--------+--------+--------------+------------------+-------------+----------+-----------+-----------------------+--------------+----------+--------+----------------------+--------------+------------+----------+-------------+-----------+-------+------------------------+----------------+----------+-------------+---------+-----------------+-----------+-------+--------------+-------+---------------------+-------+--------------------+-------+----------+------------+-------+--------------+-----------+---------+-------+-----------------+------------------+--------+----------+-----------+-----------+-------+-----------+-----------+------------+--------------+------------------+------+--------------+------------+---------------+-----------+----------+-------------+-------------+---------+--------+--------------+----------+---------+-----------+-----------+---------+---------+-------+--------+--------+-------+--------------+--------+------+----------------------+---------------------+--------+-------------+-----------+------------+-----------+----------+-----------------+--------------------+----------------------+\n",
            "|             8|      440|          4|  823| 19222|       2|               25|      4|         19|     0|       0|       0|      0|          0|      0|             0|             0|         0|      0|                 0|    0|            0|         0|       0|        0|         0|          0|      0|           0|              0|                          0|        0|                    0|       0|                  0|        0|         0|      0|              0|           0|               0|      0|              0|              0|            0|           0|        0|         0|       0|       0|                0|                   0|         0|           0|       0|           0|              0|      0|             0|         0|                        0|         0|         0|               0|       0|              0|                  0|           0|        0|                 0|               0|      0|       0|            0|            0|      0|                  0|             0|        0|       0|      0|           0|         0|              0|                     0|               0|        0|       0|      0|       0|           0|        0|          0|       0|      0|        0|              0|               0|             0|             0|      0|        0|                     0|             0|      0|        0|      0|                         0|            0|      0|      0|         0|                 0|         0|                0|                   0|             0|                  0|            0|           0|             0|             0|           0|      0|          0|        0|        0|          0|      0|         0|              0|                   0|       0|       0|      1|                0|        0|                    0|          0|     0|          0|              0|      0|             0|               0|        0|       0|        0|        0|               0|                   0|                  0|        0|          0|         0|        0|          0|      0|      0|                0|              0|                    0|                       0|          0|         0|                         0|              0|        0|         0|                      0|                   0|      0|            0|       0|       0|             0|                 0|            0|         0|          0|                      0|             0|         0|       0|                     0|             0|           0|         0|            0|          0|      0|                       0|               0|         0|            0|        0|                0|          0|      0|             0|      0|                    0|      0|                   0|      0|         0|           0|      0|             0|          0|        0|      0|                0|                 0|       0|         0|          0|          0|      0|          0|          0|           0|             0|                 0|     0|             0|           0|              0|          0|         0|            0|            0|        0|       0|             0|         0|        0|          0|          0|        0|        0|      0|       0|       0|      0|             0|       0|     0|                     0|                    0|       0|            0|          0|           0|          0|         0|                0|                   0|                     0|\n",
            "|             2|       47|          1|  654|   654|       3|               52|      5|         16|     1|       0|       0|      0|          0|      0|             0|             0|         0|      0|                 0|    0|            0|         0|       0|        0|         0|          0|      0|           0|              0|                          0|        0|                    0|       0|                  0|        0|         0|      0|              0|           0|               0|      0|              0|              0|            0|           0|        0|         0|       0|       0|                0|                   0|         0|           0|       0|           0|              0|      0|             0|         0|                        0|         0|         0|               0|       0|              0|                  0|           0|        0|                 0|               0|      0|       0|            0|            0|      0|                  0|             0|        0|       0|      0|           0|         0|              0|                     0|               0|        0|       0|      0|       0|           0|        0|          0|       0|      0|        0|              0|               0|             0|             0|      0|        0|                     0|             0|      0|        0|      0|                         0|            0|      0|      0|         0|                 0|         0|                0|                   0|             0|                  0|            0|           0|             0|             0|           0|      0|          0|        0|        0|          0|      0|         0|              0|                   0|       0|       0|      0|                0|        0|                    0|          0|     0|          0|              0|      0|             0|               0|        0|       0|        0|        0|               0|                   0|                  0|        0|          0|         0|        0|          0|      0|      0|                0|              0|                    0|                       0|          0|         0|                         0|              0|        0|         0|                      0|                   0|      0|            0|       0|       0|             0|                 0|            0|         0|          0|                      0|             0|         0|       0|                     0|             0|           0|         0|            0|          0|      0|                       0|               0|         0|            0|        0|                0|          0|      0|             0|      0|                    0|      0|                   0|      0|         0|           0|      0|             0|          0|        0|      0|                0|                 0|       0|         0|          0|          0|      0|          0|          0|           0|             0|                 0|     0|             0|           0|              0|          0|         0|            0|            0|        0|       0|             0|         0|        0|          0|          0|        0|        0|      0|       0|       0|      0|             0|       0|     0|                     0|                    0|       0|            0|          0|           0|          0|         0|                0|                   0|                     0|\n",
            "|             0|       34|          1| 2337|  2337|       4|               31|      5|         21|     0|       0|       0|      0|          0|      0|             0|             0|         0|      0|                 0|    0|            0|         0|       0|        0|         0|          0|      0|           0|              1|                          0|        0|                    0|       0|                  0|        0|         0|      0|              0|           0|               0|      0|              0|              0|            0|           0|        0|         0|       0|       0|                0|                   0|         0|           0|       0|           0|              0|      0|             0|         0|                        0|         0|         0|               0|       0|              0|                  0|           0|        0|                 0|               0|      0|       0|            0|            0|      0|                  0|             0|        0|       0|      0|           0|         0|              0|                     0|               0|        0|       0|      0|       0|           0|        0|          0|       0|      0|        0|              0|               0|             0|             0|      0|        0|                     0|             0|      0|        0|      0|                         0|            0|      0|      0|         0|                 0|         0|                0|                   0|             0|                  0|            0|           0|             0|             0|           0|      0|          0|        0|        0|          0|      0|         0|              0|                   0|       0|       0|      0|                0|        0|                    0|          0|     0|          0|              0|      0|             0|               0|        0|       0|        0|        0|               0|                   0|                  0|        0|          0|         0|        0|          0|      0|      0|                0|              0|                    0|                       0|          0|         0|                         0|              0|        0|         0|                      0|                   0|      0|            0|       0|       0|             0|                 0|            0|         0|          0|                      0|             0|         0|       0|                     0|             0|           0|         0|            0|          0|      0|                       0|               0|         0|            0|        0|                0|          0|      0|             0|      0|                    0|      0|                   0|      0|         0|           0|      0|             0|          0|        0|      0|                0|                 0|       0|         0|          0|          0|      0|          0|          0|           0|             0|                 0|     0|             0|           0|              0|          0|         0|            0|            0|        0|       0|             0|         0|        0|          0|          0|        0|        0|      0|       0|       0|      0|             0|       0|     0|                     0|                    0|       0|            0|          0|           0|          0|         0|                0|                   0|                     0|\n",
            "|             0|      156|          3| 3333| 12245|       2|               45|      5|          5|     0|       0|       0|      0|          0|      0|             0|             0|         0|      0|                 0|    0|            0|         1|       0|        0|         0|          0|      0|           0|              0|                          0|        0|                    0|       0|                  0|        0|         0|      0|              0|           0|               0|      0|              0|              0|            0|           0|        0|         0|       0|       0|                0|                   0|         0|           0|       0|           0|              0|      0|             0|         0|                        0|         0|         0|               0|       0|              0|                  0|           0|        0|                 0|               0|      0|       0|            0|            0|      0|                  0|             0|        0|       0|      0|           0|         0|              0|                     0|               0|        0|       0|      0|       0|           0|        0|          0|       0|      0|        0|              0|               0|             0|             0|      0|        0|                     0|             0|      0|        0|      0|                         0|            0|      0|      0|         0|                 0|         0|                0|                   0|             0|                  0|            0|           0|             0|             0|           0|      0|          0|        0|        0|          0|      0|         0|              0|                   0|       0|       0|      0|                0|        0|                    0|          0|     0|          0|              0|      0|             0|               0|        0|       0|        0|        0|               0|                   0|                  0|        0|          0|         0|        0|          0|      0|      0|                0|              0|                    0|                       0|          0|         0|                         0|              0|        0|         0|                      0|                   0|      0|            0|       0|       0|             0|                 0|            0|         0|          0|                      0|             0|         0|       0|                     0|             0|           0|         0|            0|          0|      0|                       0|               0|         0|            0|        0|                0|          0|      0|             0|      0|                    0|      0|                   0|      0|         0|           0|      0|             0|          0|        0|      0|                0|                 0|       0|         0|          0|          0|      0|          0|          0|           0|             0|                 0|     0|             0|           0|              0|          0|         0|            0|            0|        0|       0|             0|         0|        0|          0|          0|        0|        0|      0|       0|       0|      0|             0|       0|     0|                     0|                    0|       0|            0|          0|           0|          0|         0|                0|                   0|                     0|\n",
            "|             4|      158|          3|67173|983792|       2|               77|      1|          0|     0|       0|       0|      0|          0|      0|             0|             0|         0|      0|                 0|    0|            0|         0|       0|        0|         0|          0|      0|           0|              0|                          0|        0|                    0|       0|                  0|        0|         0|      0|              0|           0|               0|      0|              0|              0|            0|           0|        0|         0|       0|       0|                0|                   0|         0|           0|       0|           0|              0|      0|             0|         0|                        0|         0|         0|               0|       0|              0|                  1|           0|        0|                 0|               0|      0|       0|            0|            0|      0|                  0|             0|        0|       0|      0|           0|         0|              0|                     0|               0|        0|       0|      0|       0|           0|        0|          0|       0|      0|        0|              0|               0|             0|             0|      0|        0|                     0|             0|      0|        0|      0|                         0|            0|      0|      0|         0|                 0|         0|                0|                   0|             0|                  0|            0|           0|             0|             0|           0|      0|          0|        0|        0|          0|      0|         0|              0|                   0|       0|       0|      0|                0|        0|                    0|          0|     0|          0|              0|      0|             0|               0|        0|       0|        0|        0|               0|                   0|                  0|        0|          0|         0|        0|          0|      0|      0|                0|              0|                    0|                       0|          0|         0|                         0|              0|        0|         0|                      0|                   0|      0|            0|       0|       0|             0|                 0|            0|         0|          0|                      0|             0|         0|       0|                     0|             0|           0|         0|            0|          0|      0|                       0|               0|         0|            0|        0|                0|          0|      0|             0|      0|                    0|      0|                   0|      0|         0|           0|      0|             0|          0|        0|      0|                0|                 0|       0|         0|          0|          0|      0|          0|          0|           0|             0|                 0|     0|             0|           0|              0|          0|         0|            0|            0|        0|       0|             0|         0|        0|          0|          0|        0|        0|      0|       0|       0|      0|             0|       0|     0|                     0|                    0|       0|            0|          0|           0|          0|         0|                0|                   0|                     0|\n",
            "+--------------+---------+-----------+-----+------+--------+-----------------+-------+-----------+------+--------+--------+-------+-----------+-------+--------------+--------------+----------+-------+------------------+-----+-------------+----------+--------+---------+----------+-----------+-------+------------+---------------+---------------------------+---------+---------------------+--------+-------------------+---------+----------+-------+---------------+------------+----------------+-------+---------------+---------------+-------------+------------+---------+----------+--------+--------+-----------------+--------------------+----------+------------+--------+------------+---------------+-------+--------------+----------+-------------------------+----------+----------+----------------+--------+---------------+-------------------+------------+---------+------------------+----------------+-------+--------+-------------+-------------+-------+-------------------+--------------+---------+--------+-------+------------+----------+---------------+----------------------+----------------+---------+--------+-------+--------+------------+---------+-----------+--------+-------+---------+---------------+----------------+--------------+--------------+-------+---------+----------------------+--------------+-------+---------+-------+--------------------------+-------------+-------+-------+----------+------------------+----------+-----------------+--------------------+--------------+-------------------+-------------+------------+--------------+--------------+------------+-------+-----------+---------+---------+-----------+-------+----------+---------------+--------------------+--------+--------+-------+-----------------+---------+---------------------+-----------+------+-----------+---------------+-------+--------------+----------------+---------+--------+---------+---------+----------------+--------------------+-------------------+---------+-----------+----------+---------+-----------+-------+-------+-----------------+---------------+---------------------+------------------------+-----------+----------+--------------------------+---------------+---------+----------+-----------------------+--------------------+-------+-------------+--------+--------+--------------+------------------+-------------+----------+-----------+-----------------------+--------------+----------+--------+----------------------+--------------+------------+----------+-------------+-----------+-------+------------------------+----------------+----------+-------------+---------+-----------------+-----------+-------+--------------+-------+---------------------+-------+--------------------+-------+----------+------------+-------+--------------+-----------+---------+-------+-----------------+------------------+--------+----------+-----------+-----------+-------+-----------+-----------+------------+--------------+------------------+------+--------------+------------+---------------+-----------+----------+-------------+-------------+---------+--------+--------------+----------+---------+-----------+-----------+---------+---------+-------+--------+--------+-------+--------------+--------+------+----------------------+---------------------+--------+-------------+-----------+------------+-----------+----------+-----------------+--------------------+----------------------+\n",
            "only showing top 5 rows\n",
            "\n"
          ]
        }
      ],
      "source": [
        "df_for_ml = filtered_result_df.drop(\"tags\", \"question_id\", \"questioner_id\", \"question_time\")\n",
        "df_for_ml.show(5)"
      ]
    },
    {
      "cell_type": "markdown",
      "metadata": {
        "id": "UJ3hdrDF2Qtd"
      },
      "source": [
        "# Training For Predicting the Number of Views"
      ]
    },
    {
      "cell_type": "markdown",
      "metadata": {
        "id": "hY43bhAn1UF1"
      },
      "source": [
        "## Train the model"
      ]
    },
    {
      "cell_type": "code",
      "execution_count": 49,
      "metadata": {
        "colab": {
          "base_uri": "https://localhost:8080/"
        },
        "id": "gGuF0MmDG4ED",
        "outputId": "ad4c43c6-f3ad-4caa-ff17-ed34f831c6ed"
      },
      "outputs": [
        {
          "output_type": "stream",
          "name": "stdout",
          "text": [
            "Best Model Parameters: numTrees=50, maxDepth=10, maxBins=64\n",
            "+---------+------------------+\n",
            "|num_views|prediction        |\n",
            "+---------+------------------+\n",
            "|120      |107.66568159501924|\n",
            "|108      |108.41046775749983|\n",
            "|314      |253.32455706078616|\n",
            "|51       |47.00369339388739 |\n",
            "|263      |227.2208292065174 |\n",
            "|8        |40.62525951396369 |\n",
            "|15       |40.153135833257394|\n",
            "|19       |48.84180987661132 |\n",
            "|23       |42.50411908527527 |\n",
            "|23       |80.86540540813778 |\n",
            "+---------+------------------+\n",
            "only showing top 10 rows\n",
            "\n",
            "Elapsed time: 1369.81 seconds\n"
          ]
        }
      ],
      "source": [
        "import time\n",
        "from pyspark.ml.regression import RandomForestRegressor\n",
        "from pyspark.ml.tuning import ParamGridBuilder, TrainValidationSplit\n",
        "from pyspark.ml.evaluation import RegressionEvaluator\n",
        "\n",
        "start_time = time.time()\n",
        "\n",
        "# Step 1: Define Random Forest Regressor\n",
        "rf = RandomForestRegressor(featuresCol=\"features\", labelCol=\"num_views\", predictionCol=\"prediction\")\n",
        "train_df, test_df = df_for_ml.randomSplit([0.8, 0.2], seed=42)\n",
        "\n",
        "feature_columns = [col for col in df_for_ml.columns if col != \"num_views\"]  # Exclude the target column\n",
        "assembler = VectorAssembler(inputCols=feature_columns, outputCol=\"features\")\n",
        "train_df = assembler.transform(train_df)\n",
        "test_df = assembler.transform(test_df)\n",
        "\n",
        "# Step 2: Create a parameter grid for hyperparameter tuning\n",
        "paramGrid = (\n",
        "    ParamGridBuilder()\n",
        "    .addGrid(rf.numTrees, [20, 50])         # Number of trees to try\n",
        "    .addGrid(rf.maxDepth, [5, 10])         # Maximum depth of each tree\n",
        "    .addGrid(rf.maxBins, [32, 64])         # Maximum number of bins for categorical splits\n",
        "    .build()\n",
        ")\n",
        "\n",
        "# Step 3: Define evaluator and TrainValidationSplit\n",
        "evaluator = RegressionEvaluator(labelCol=\"num_views\", predictionCol=\"prediction\", metricName=\"rmse\")\n",
        "tvs = TrainValidationSplit(\n",
        "    estimator=rf,\n",
        "    estimatorParamMaps=paramGrid,\n",
        "    evaluator=evaluator,\n",
        "    trainRatio=0.8  # 80% of training data for training, 20% for validation\n",
        ")\n",
        "\n",
        "# Step 4: Train the model using TrainValidationSplit\n",
        "rf_model = tvs.fit(train_df)\n",
        "\n",
        "# Step 5: Get the best model and evaluate\n",
        "best_model = rf_model.bestModel\n",
        "predictions = best_model.transform(test_df)\n",
        "\n",
        "\n",
        "# Step 6: Print the evaluation metrics and best hyperparameters\n",
        "print(f\"Best Model Parameters: numTrees={best_model.getNumTrees}, maxDepth={best_model.getMaxDepth()}, maxBins={best_model.getMaxBins()}\")\n",
        "\n",
        "# Step 7: Show a sample of predictions\n",
        "predictions.select(\"num_views\", \"prediction\").show(10, truncate=False)\n",
        "\n",
        "end_time = time.time()\n",
        "\n",
        "elapsed_time = end_time - start_time\n",
        "print(f\"Elapsed time: {elapsed_time:.2f} seconds\")\n"
      ]
    },
    {
      "cell_type": "markdown",
      "metadata": {
        "id": "kBhsYzGt1UF2"
      },
      "source": [
        "# Model Evaluation and Metrics"
      ]
    },
    {
      "cell_type": "markdown",
      "metadata": {
        "id": "E5E7vEm-G4EE"
      },
      "source": [
        "### RMSE (Root Mean Squared Error)\n",
        "\n",
        "The **RMSE** measures the average magnitude of the prediction errors, representing how far off the predicted values are from the actual values.\n",
        "\n",
        "- \\(RMSE = 0 \\): Perfect prediction. The model's predictions are identical to the actual values.\n",
        "- \\(RMSE > 0 \\): The model has prediction errors, with higher values indicating larger errors.\n",
        "- RMSE is in the same units as the target variable, providing a clear indication of how large the errors are in the context of the data.\n",
        "\n",
        "A lower RMSE indicates better predictive performance, as it signifies that the model's predictions are closer to the actual values."
      ]
    },
    {
      "cell_type": "code",
      "execution_count": 50,
      "metadata": {
        "colab": {
          "base_uri": "https://localhost:8080/"
        },
        "id": "tgJT7FekG4EE",
        "outputId": "5146f937-2ad0-4bbd-8f44-e7aff6b941bd"
      },
      "outputs": [
        {
          "output_type": "stream",
          "name": "stdout",
          "text": [
            "Root Mean Squared Error (RMSE) on test data: 214.69661743251638\n"
          ]
        }
      ],
      "source": [
        "from pyspark.ml.evaluation import RegressionEvaluator\n",
        "\n",
        "evaluator = RegressionEvaluator(labelCol=\"num_views\", predictionCol=\"prediction\", metricName=\"rmse\")\n",
        "rmse = evaluator.evaluate(predictions)\n",
        "print(f\"Root Mean Squared Error (RMSE) on test data: {rmse}\")\n"
      ]
    },
    {
      "cell_type": "markdown",
      "metadata": {
        "id": "hnF8k1Gj1UF2"
      },
      "source": [
        "### R² Score (Coefficient of Determination)\n",
        "The **R² Score** measures how well the model explains the variance in the target variable (`num_views`).  \n",
        "- \\( R² = 1 \\): Perfect prediction. The model explains 100% of the variance.  \n",
        "- \\( R² = 0 \\): The model is as good as using the mean of the target as the prediction.  \n",
        "- \\( R² < 0 \\): The model performs worse than simply using the mean.\n",
        "\n",
        "A higher R² score indicates better predictive performance."
      ]
    },
    {
      "cell_type": "code",
      "execution_count": 51,
      "metadata": {
        "colab": {
          "base_uri": "https://localhost:8080/"
        },
        "id": "o3xPwo3w1UF3",
        "outputId": "3fb1ec33-7bfb-480b-8bac-31ccda3126c8"
      },
      "outputs": [
        {
          "output_type": "stream",
          "name": "stdout",
          "text": [
            "R² Score on Test Data: 0.40367092023003703\n"
          ]
        }
      ],
      "source": [
        "# Calculate R² Score\n",
        "from pyspark.ml.evaluation import RegressionEvaluator\n",
        "\n",
        "evaluator = RegressionEvaluator(labelCol=\"num_views\", predictionCol=\"prediction\", metricName=\"r2\")\n",
        "r2_score = evaluator.evaluate(predictions)\n",
        "print(f\"R² Score on Test Data: {r2_score}\")"
      ]
    },
    {
      "cell_type": "markdown",
      "metadata": {
        "id": "pwXx-JLq1UF3"
      },
      "source": [
        "### MAPE (Mean Absolute Percentage Error)\n",
        "\n",
        "The **Mean Absolute Percentage Error (MAPE)** measures the average percentage error between the actual and predicted values.\n",
        "\n",
        "- MAPE is useful for understanding the relative error in predictions.\n",
        "- Lower MAPE values indicate more accurate predictions.\n",
        "- It is calculated as:\n",
        "\n",
        "$$\n",
        "\\text{MAPE} = \\frac{1}{n} \\sum_{i=1}^{n} \\left| \\frac{y_i - \\hat{y}_i}{y_i} \\right| \\times 100\n",
        "$$"
      ]
    },
    {
      "cell_type": "code",
      "execution_count": 52,
      "metadata": {
        "colab": {
          "base_uri": "https://localhost:8080/"
        },
        "id": "wm-ATu5Q1UF-",
        "outputId": "3827cd42-5d18-49f2-fdd7-fce1466f7bb1"
      },
      "outputs": [
        {
          "output_type": "stream",
          "name": "stdout",
          "text": [
            "Mean Absolute Percentage Error (MAPE): 60.45%\n"
          ]
        }
      ],
      "source": [
        "# Calculate MAPE\n",
        "from pyspark.sql.functions import col, abs\n",
        "\n",
        "# Add a column for absolute percentage error\n",
        "predictions = predictions.withColumn(\"absolute_percentage_error\",\n",
        "                                      abs((col(\"num_views\") - col(\"prediction\")) / col(\"num_views\")) * 100)\n",
        "\n",
        "# Calculate MAPE\n",
        "mape = predictions.select(F.mean(\"absolute_percentage_error\")).collect()[0][0]\n",
        "print(f\"Mean Absolute Percentage Error (MAPE): {mape:.2f}%\")\n"
      ]
    },
    {
      "cell_type": "markdown",
      "metadata": {
        "id": "1-rPj13U1UF-"
      },
      "source": [
        "# Visualize the results"
      ]
    },
    {
      "cell_type": "markdown",
      "metadata": {
        "id": "vj9Bac511UF-"
      },
      "source": [
        "We plot actual vs. predicted values to visually inspect how well the model is performing."
      ]
    },
    {
      "cell_type": "code",
      "execution_count": 53,
      "metadata": {
        "colab": {
          "base_uri": "https://localhost:8080/",
          "height": 738
        },
        "id": "29j_WR2R1UF-",
        "outputId": "3ffbbbc9-81cf-4e27-91ca-94329db655db"
      },
      "outputs": [
        {
          "output_type": "display_data",
          "data": {
            "text/plain": [
              "<Figure size 800x800 with 1 Axes>"
            ],
            "image/png": "[encoded data removed]"
          },
          "metadata": {}
        }
      ],
      "source": [
        "import matplotlib.pyplot as plt\n",
        "\n",
        "# Convert predictions to Pandas DataFrame for visualization\n",
        "predictions_pandas = predictions.select(\"num_views\", \"prediction\").toPandas()\n",
        "\n",
        "# Scatter plot: Actual vs Predicted\n",
        "plt.figure(figsize=(8, 8))\n",
        "plt.scatter(predictions_pandas[\"num_views\"], predictions_pandas[\"prediction\"], alpha=0.5)\n",
        "plt.plot([predictions_pandas[\"num_views\"].min(), predictions_pandas[\"num_views\"].max()],\n",
        "         [predictions_pandas[\"num_views\"].min(), predictions_pandas[\"num_views\"].max()],\n",
        "         color='red', linestyle='--', label=\"Ideal Prediction\")\n",
        "plt.xlabel(\"Actual Views\")\n",
        "plt.ylabel(\"Predicted Views\")\n",
        "plt.title(\"Actual vs. Predicted Views\")\n",
        "plt.legend()\n",
        "plt.show()\n"
      ]
    },
    {
      "cell_type": "markdown",
      "metadata": {
        "id": "VUITjOzR1UF_"
      },
      "source": [
        "Then we examine the residuals (differences between actual and predicted values) to understand model bias and variance."
      ]
    },
    {
      "cell_type": "code",
      "execution_count": 54,
      "metadata": {
        "colab": {
          "base_uri": "https://localhost:8080/",
          "height": 758
        },
        "id": "yNOgzn4v1UF_",
        "outputId": "2ca1b888-ae11-42d4-dbd4-b7abcf613a9d"
      },
      "outputs": [
        {
          "output_type": "stream",
          "name": "stdout",
          "text": [
            "+-------+-------------------+\n",
            "|summary|           residual|\n",
            "+-------+-------------------+\n",
            "|  count|              16772|\n",
            "|   mean| 0.6216217512679393|\n",
            "| stddev|  214.7021182315965|\n",
            "|    min|-1553.3900000000003|\n",
            "|    max|  17096.53060056283|\n",
            "+-------+-------------------+\n",
            "\n"
          ]
        },
        {
          "output_type": "display_data",
          "data": {
            "text/plain": [
              "<Figure size 800x600 with 1 Axes>"
            ],
            "image/png": "[encoded data removed]"
          },
          "metadata": {}
        }
      ],
      "source": [
        "# Add residual column to predictions DataFrame\n",
        "predictions = predictions.withColumn(\"residual\", F.col(\"num_views\") - F.col(\"prediction\"))\n",
        "\n",
        "# Show residual statistics\n",
        "predictions.select(\"residual\").describe().show()\n",
        "\n",
        "# Convert residuals to Pandas for visualization\n",
        "residuals_pandas = predictions.select(\"residual\").toPandas()\n",
        "\n",
        "# Histogram of residuals\n",
        "plt.figure(figsize=(8, 6))\n",
        "plt.hist(residuals_pandas[\"residual\"], bins=50, edgecolor=\"k\", alpha=0.7)\n",
        "plt.xlabel(\"Residual\")\n",
        "plt.ylabel(\"Frequency\")\n",
        "plt.title(\"Residual Distribution\")\n",
        "plt.show()\n"
      ]
    }
  ],
  "metadata": {
    "colab": {
      "provenance": []
    },
    "kernelspec": {
      "display_name": "venv",
      "language": "python",
      "name": "python3"
    },
    "language_info": {
      "codemirror_mode": {
        "name": "ipython",
        "version": 3
      },
      "file_extension": ".py",
      "mimetype": "text/x-python",
      "name": "python",
      "nbconvert_exporter": "python",
      "pygments_lexer": "ipython3",
      "version": "3.10.6"
    }
  },
  "nbformat": 4,
  "nbformat_minor": 0
}